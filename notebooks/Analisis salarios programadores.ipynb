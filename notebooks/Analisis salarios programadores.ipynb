{
 "cells": [
  {
   "attachments": {},
   "cell_type": "markdown",
   "metadata": {
    "cell_id": "0b73df15200546968cb12a236d090584",
    "deepnote_cell_type": "text-cell-h1",
    "formattedRanges": [],
    "is_collapsed": false,
    "tags": []
   },
   "source": [
    "# ANALISIS DE LOS SALARIOS EN PROGRAMADORES\n"
   ]
  },
  {
   "attachments": {},
   "cell_type": "markdown",
   "metadata": {},
   "source": [
    "Por: Wagner Fernández V."
   ]
  },
  {
   "attachments": {},
   "cell_type": "markdown",
   "metadata": {},
   "source": [
    "## Introducción"
   ]
  },
  {
   "attachments": {},
   "cell_type": "markdown",
   "metadata": {},
   "source": [
    "<p style=\"text-align: justify;\">Se crea el primer modelo de aprendizaje, de regresión lineal, para comparar y predecir un conjunto de datos, para este caso, se analizará la información de los salarios de los programadores conforme a los años de experiencia que tengan.</p>\n",
    "\n",
    "<p style=\"text-align: justify;\">El set de datos, se obtuvo de la plataforma Kaggle: https://www.kaggle.com/datasets/abhishek14398/salary-dataset-simple-linear-regression?select=Salary_dataset.csv</p>\n",
    "\n",
    "<p style=\"text-align: justify;\">Lo primero que haremos será importar todas las bibliotecas con las que trabajaremos, tu ya tienes los conceptos básicos de numpy además que cuentas con una lectura adicional para tenerlos a la mano.</p>\n",
    "\n",
    "<p style=\"text-align: justify;\">El algoritmo, fue desarrollado en el lenguaje de programación Python, con las librerías Pandas, Matplotlib, y el paquete para Machine llamano Sckit-Learn; basado en el libro de (Roldán, 2022) y el libro de Géron (2019).</p>"
   ]
  },
  {
   "cell_type": "markdown",
   "metadata": {
    "cell_id": "d9be979ef41b48d6b119f80b98f0e2f7",
    "deepnote_cell_type": "text-cell-h2",
    "formattedRanges": [],
    "is_collapsed": false,
    "tags": []
   },
   "source": [
    "## 1-Análisis y procesamiento de la data"
   ]
  },
  {
   "cell_type": "markdown",
   "metadata": {
    "cell_id": "abe364e5f7864fbe99429ad1aa940743",
    "deepnote_cell_type": "text-cell-number",
    "formattedRanges": [],
    "is_collapsed": false,
    "tags": []
   },
   "source": [
    "1. Instalación de Librerías"
   ]
  },
  {
   "attachments": {},
   "cell_type": "markdown",
   "metadata": {},
   "source": [
    "<p style=\"text-align: justify;\">Las APIs necesarias para el procesamiento de los datos.</p>"
   ]
  },
  {
   "cell_type": "code",
   "execution_count": 1,
   "metadata": {
    "cell_id": "f7bc1f0b548749e5a0b04f67dc6f66bc",
    "deepnote_cell_type": "code",
    "tags": []
   },
   "outputs": [],
   "source": [
    "import pandas as pd # para procesar datos alfanumericos\n",
    "import numpy as np# para procesar arreglos, expresiones numéricas y algebráicas.\n",
    "import matplotlib.pyplot as plt # Para realizar graficos.\n",
    "import os #Este modulo nos permite acceder a funcionalidades dependientes del Sistema Operativo. Sobre todo, aquellas que nos refieren información sobre el entorno del mismo y nos permiten manipular la estructura de directorios (para leer y escribir archivos.\n",
    "import seaborn as sns# librería basada en matplotlib, para mostrar gráficas más elegantes.\n",
    "from sklearn.model_selection import train_test_split \n",
    "from sklearn.linear_model import LinearRegression"
   ]
  },
  {
   "cell_type": "markdown",
   "metadata": {
    "cell_id": "df3c32dbc092456a9b751edb833db91d",
    "deepnote_cell_type": "text-cell-number",
    "formattedRanges": [],
    "is_collapsed": false,
    "number": 2,
    "style": "decimal",
    "tags": []
   },
   "source": [
    "2. Procesamiento de Datos"
   ]
  },
  {
   "attachments": {},
   "cell_type": "markdown",
   "metadata": {},
   "source": [
    "<p style=\"text-align: justify;\">Este numeral, se desglosa en dos puntos:</p>\n",
    "\n",
    "* Limpieza de datos\n",
    "* Analisis exploratorio de datos (EDA) por sus siglas en inglés."
   ]
  },
  {
   "attachments": {},
   "cell_type": "markdown",
   "metadata": {},
   "source": [
    "2.1. Limpieza de datos"
   ]
  },
  {
   "attachments": {},
   "cell_type": "markdown",
   "metadata": {
    "cell_id": "72ff9769576546b18c3917251c784346",
    "deepnote_cell_type": "text-cell-p",
    "formattedRanges": [],
    "is_collapsed": false,
    "tags": []
   },
   "source": [
    "<p style=\"text-align: justify;\">La limpieza de los datos o Datacleaning,en involucrar detectar, eliminar,corregir o transformar cualquier anomalía, perturbación o irrelevancia de los datos. (Torres, 2021)</p>\n",
    "\n",
    "Para este caso, se va utilizar el analisis descriptivo de datos, que es ... \n",
    "\n",
    "* Se procede con leer los datos, utilizando la librería pandas:"
   ]
  },
  {
   "cell_type": "code",
   "execution_count": 2,
   "metadata": {},
   "outputs": [
    {
     "data": {
      "text/html": [
       "<div>\n",
       "<style scoped>\n",
       "    .dataframe tbody tr th:only-of-type {\n",
       "        vertical-align: middle;\n",
       "    }\n",
       "\n",
       "    .dataframe tbody tr th {\n",
       "        vertical-align: top;\n",
       "    }\n",
       "\n",
       "    .dataframe thead th {\n",
       "        text-align: right;\n",
       "    }\n",
       "</style>\n",
       "<table border=\"1\" class=\"dataframe\">\n",
       "  <thead>\n",
       "    <tr style=\"text-align: right;\">\n",
       "      <th></th>\n",
       "      <th>Unnamed: 0</th>\n",
       "      <th>YearsExperience</th>\n",
       "      <th>Salary</th>\n",
       "    </tr>\n",
       "  </thead>\n",
       "  <tbody>\n",
       "    <tr>\n",
       "      <th>0</th>\n",
       "      <td>0</td>\n",
       "      <td>1.2</td>\n",
       "      <td>39344.0</td>\n",
       "    </tr>\n",
       "    <tr>\n",
       "      <th>1</th>\n",
       "      <td>1</td>\n",
       "      <td>1.4</td>\n",
       "      <td>46206.0</td>\n",
       "    </tr>\n",
       "    <tr>\n",
       "      <th>2</th>\n",
       "      <td>2</td>\n",
       "      <td>1.6</td>\n",
       "      <td>37732.0</td>\n",
       "    </tr>\n",
       "    <tr>\n",
       "      <th>3</th>\n",
       "      <td>3</td>\n",
       "      <td>2.1</td>\n",
       "      <td>43526.0</td>\n",
       "    </tr>\n",
       "    <tr>\n",
       "      <th>4</th>\n",
       "      <td>4</td>\n",
       "      <td>2.3</td>\n",
       "      <td>39892.0</td>\n",
       "    </tr>\n",
       "    <tr>\n",
       "      <th>5</th>\n",
       "      <td>5</td>\n",
       "      <td>3.0</td>\n",
       "      <td>56643.0</td>\n",
       "    </tr>\n",
       "    <tr>\n",
       "      <th>6</th>\n",
       "      <td>6</td>\n",
       "      <td>3.1</td>\n",
       "      <td>60151.0</td>\n",
       "    </tr>\n",
       "    <tr>\n",
       "      <th>7</th>\n",
       "      <td>7</td>\n",
       "      <td>3.3</td>\n",
       "      <td>54446.0</td>\n",
       "    </tr>\n",
       "    <tr>\n",
       "      <th>8</th>\n",
       "      <td>8</td>\n",
       "      <td>3.3</td>\n",
       "      <td>64446.0</td>\n",
       "    </tr>\n",
       "    <tr>\n",
       "      <th>9</th>\n",
       "      <td>9</td>\n",
       "      <td>3.8</td>\n",
       "      <td>57190.0</td>\n",
       "    </tr>\n",
       "    <tr>\n",
       "      <th>10</th>\n",
       "      <td>10</td>\n",
       "      <td>4.0</td>\n",
       "      <td>63219.0</td>\n",
       "    </tr>\n",
       "    <tr>\n",
       "      <th>11</th>\n",
       "      <td>11</td>\n",
       "      <td>4.1</td>\n",
       "      <td>55795.0</td>\n",
       "    </tr>\n",
       "    <tr>\n",
       "      <th>12</th>\n",
       "      <td>12</td>\n",
       "      <td>4.1</td>\n",
       "      <td>56958.0</td>\n",
       "    </tr>\n",
       "    <tr>\n",
       "      <th>13</th>\n",
       "      <td>13</td>\n",
       "      <td>4.2</td>\n",
       "      <td>57082.0</td>\n",
       "    </tr>\n",
       "    <tr>\n",
       "      <th>14</th>\n",
       "      <td>14</td>\n",
       "      <td>4.6</td>\n",
       "      <td>61112.0</td>\n",
       "    </tr>\n",
       "    <tr>\n",
       "      <th>15</th>\n",
       "      <td>15</td>\n",
       "      <td>5.0</td>\n",
       "      <td>67939.0</td>\n",
       "    </tr>\n",
       "    <tr>\n",
       "      <th>16</th>\n",
       "      <td>16</td>\n",
       "      <td>5.2</td>\n",
       "      <td>66030.0</td>\n",
       "    </tr>\n",
       "    <tr>\n",
       "      <th>17</th>\n",
       "      <td>17</td>\n",
       "      <td>5.4</td>\n",
       "      <td>83089.0</td>\n",
       "    </tr>\n",
       "    <tr>\n",
       "      <th>18</th>\n",
       "      <td>18</td>\n",
       "      <td>6.0</td>\n",
       "      <td>81364.0</td>\n",
       "    </tr>\n",
       "    <tr>\n",
       "      <th>19</th>\n",
       "      <td>19</td>\n",
       "      <td>6.1</td>\n",
       "      <td>93941.0</td>\n",
       "    </tr>\n",
       "    <tr>\n",
       "      <th>20</th>\n",
       "      <td>20</td>\n",
       "      <td>6.9</td>\n",
       "      <td>91739.0</td>\n",
       "    </tr>\n",
       "    <tr>\n",
       "      <th>21</th>\n",
       "      <td>21</td>\n",
       "      <td>7.2</td>\n",
       "      <td>98274.0</td>\n",
       "    </tr>\n",
       "    <tr>\n",
       "      <th>22</th>\n",
       "      <td>22</td>\n",
       "      <td>8.0</td>\n",
       "      <td>101303.0</td>\n",
       "    </tr>\n",
       "    <tr>\n",
       "      <th>23</th>\n",
       "      <td>23</td>\n",
       "      <td>8.3</td>\n",
       "      <td>113813.0</td>\n",
       "    </tr>\n",
       "    <tr>\n",
       "      <th>24</th>\n",
       "      <td>24</td>\n",
       "      <td>8.8</td>\n",
       "      <td>109432.0</td>\n",
       "    </tr>\n",
       "    <tr>\n",
       "      <th>25</th>\n",
       "      <td>25</td>\n",
       "      <td>9.1</td>\n",
       "      <td>105583.0</td>\n",
       "    </tr>\n",
       "    <tr>\n",
       "      <th>26</th>\n",
       "      <td>26</td>\n",
       "      <td>9.6</td>\n",
       "      <td>116970.0</td>\n",
       "    </tr>\n",
       "    <tr>\n",
       "      <th>27</th>\n",
       "      <td>27</td>\n",
       "      <td>9.7</td>\n",
       "      <td>112636.0</td>\n",
       "    </tr>\n",
       "    <tr>\n",
       "      <th>28</th>\n",
       "      <td>28</td>\n",
       "      <td>10.4</td>\n",
       "      <td>122392.0</td>\n",
       "    </tr>\n",
       "    <tr>\n",
       "      <th>29</th>\n",
       "      <td>29</td>\n",
       "      <td>10.6</td>\n",
       "      <td>121873.0</td>\n",
       "    </tr>\n",
       "  </tbody>\n",
       "</table>\n",
       "</div>"
      ],
      "text/plain": [
       "    Unnamed: 0  YearsExperience    Salary\n",
       "0            0              1.2   39344.0\n",
       "1            1              1.4   46206.0\n",
       "2            2              1.6   37732.0\n",
       "3            3              2.1   43526.0\n",
       "4            4              2.3   39892.0\n",
       "5            5              3.0   56643.0\n",
       "6            6              3.1   60151.0\n",
       "7            7              3.3   54446.0\n",
       "8            8              3.3   64446.0\n",
       "9            9              3.8   57190.0\n",
       "10          10              4.0   63219.0\n",
       "11          11              4.1   55795.0\n",
       "12          12              4.1   56958.0\n",
       "13          13              4.2   57082.0\n",
       "14          14              4.6   61112.0\n",
       "15          15              5.0   67939.0\n",
       "16          16              5.2   66030.0\n",
       "17          17              5.4   83089.0\n",
       "18          18              6.0   81364.0\n",
       "19          19              6.1   93941.0\n",
       "20          20              6.9   91739.0\n",
       "21          21              7.2   98274.0\n",
       "22          22              8.0  101303.0\n",
       "23          23              8.3  113813.0\n",
       "24          24              8.8  109432.0\n",
       "25          25              9.1  105583.0\n",
       "26          26              9.6  116970.0\n",
       "27          27              9.7  112636.0\n",
       "28          28             10.4  122392.0\n",
       "29          29             10.6  121873.0"
      ]
     },
     "execution_count": 2,
     "metadata": {},
     "output_type": "execute_result"
    }
   ],
   "source": [
    "df = pd.read_csv('C:/Users/wagne/Downloads/Analisis salarios programadores/data/salario.csv')\n",
    "df"
   ]
  },
  {
   "attachments": {},
   "cell_type": "markdown",
   "metadata": {},
   "source": [
    "* Se limpia la columna que no será tan relevante en el analisis de los datos a graficar, que en este caso es \"Unnamed: 0\" con el metodo drop de la librería Pandas."
   ]
  },
  {
   "cell_type": "code",
   "execution_count": 3,
   "metadata": {},
   "outputs": [],
   "source": [
    "df.drop('Unnamed: 0',axis=1,inplace=True)"
   ]
  },
  {
   "attachments": {},
   "cell_type": "markdown",
   "metadata": {},
   "source": [
    "* Se cambia los nombres de las columnas del DataFrame leído:"
   ]
  },
  {
   "cell_type": "code",
   "execution_count": 4,
   "metadata": {},
   "outputs": [],
   "source": [
    "df.columns = ['años experiencia', 'salario']"
   ]
  },
  {
   "attachments": {},
   "cell_type": "markdown",
   "metadata": {},
   "source": [
    "* Comando para la lectura del DataFrame ya con los ajustes hechos:"
   ]
  },
  {
   "cell_type": "code",
   "execution_count": 5,
   "metadata": {},
   "outputs": [
    {
     "data": {
      "text/html": [
       "<div>\n",
       "<style scoped>\n",
       "    .dataframe tbody tr th:only-of-type {\n",
       "        vertical-align: middle;\n",
       "    }\n",
       "\n",
       "    .dataframe tbody tr th {\n",
       "        vertical-align: top;\n",
       "    }\n",
       "\n",
       "    .dataframe thead th {\n",
       "        text-align: right;\n",
       "    }\n",
       "</style>\n",
       "<table border=\"1\" class=\"dataframe\">\n",
       "  <thead>\n",
       "    <tr style=\"text-align: right;\">\n",
       "      <th></th>\n",
       "      <th>años experiencia</th>\n",
       "      <th>salario</th>\n",
       "    </tr>\n",
       "  </thead>\n",
       "  <tbody>\n",
       "    <tr>\n",
       "      <th>0</th>\n",
       "      <td>1.2</td>\n",
       "      <td>39344.0</td>\n",
       "    </tr>\n",
       "    <tr>\n",
       "      <th>1</th>\n",
       "      <td>1.4</td>\n",
       "      <td>46206.0</td>\n",
       "    </tr>\n",
       "    <tr>\n",
       "      <th>2</th>\n",
       "      <td>1.6</td>\n",
       "      <td>37732.0</td>\n",
       "    </tr>\n",
       "    <tr>\n",
       "      <th>3</th>\n",
       "      <td>2.1</td>\n",
       "      <td>43526.0</td>\n",
       "    </tr>\n",
       "    <tr>\n",
       "      <th>4</th>\n",
       "      <td>2.3</td>\n",
       "      <td>39892.0</td>\n",
       "    </tr>\n",
       "    <tr>\n",
       "      <th>5</th>\n",
       "      <td>3.0</td>\n",
       "      <td>56643.0</td>\n",
       "    </tr>\n",
       "    <tr>\n",
       "      <th>6</th>\n",
       "      <td>3.1</td>\n",
       "      <td>60151.0</td>\n",
       "    </tr>\n",
       "    <tr>\n",
       "      <th>7</th>\n",
       "      <td>3.3</td>\n",
       "      <td>54446.0</td>\n",
       "    </tr>\n",
       "    <tr>\n",
       "      <th>8</th>\n",
       "      <td>3.3</td>\n",
       "      <td>64446.0</td>\n",
       "    </tr>\n",
       "    <tr>\n",
       "      <th>9</th>\n",
       "      <td>3.8</td>\n",
       "      <td>57190.0</td>\n",
       "    </tr>\n",
       "    <tr>\n",
       "      <th>10</th>\n",
       "      <td>4.0</td>\n",
       "      <td>63219.0</td>\n",
       "    </tr>\n",
       "    <tr>\n",
       "      <th>11</th>\n",
       "      <td>4.1</td>\n",
       "      <td>55795.0</td>\n",
       "    </tr>\n",
       "    <tr>\n",
       "      <th>12</th>\n",
       "      <td>4.1</td>\n",
       "      <td>56958.0</td>\n",
       "    </tr>\n",
       "    <tr>\n",
       "      <th>13</th>\n",
       "      <td>4.2</td>\n",
       "      <td>57082.0</td>\n",
       "    </tr>\n",
       "    <tr>\n",
       "      <th>14</th>\n",
       "      <td>4.6</td>\n",
       "      <td>61112.0</td>\n",
       "    </tr>\n",
       "    <tr>\n",
       "      <th>15</th>\n",
       "      <td>5.0</td>\n",
       "      <td>67939.0</td>\n",
       "    </tr>\n",
       "    <tr>\n",
       "      <th>16</th>\n",
       "      <td>5.2</td>\n",
       "      <td>66030.0</td>\n",
       "    </tr>\n",
       "    <tr>\n",
       "      <th>17</th>\n",
       "      <td>5.4</td>\n",
       "      <td>83089.0</td>\n",
       "    </tr>\n",
       "    <tr>\n",
       "      <th>18</th>\n",
       "      <td>6.0</td>\n",
       "      <td>81364.0</td>\n",
       "    </tr>\n",
       "    <tr>\n",
       "      <th>19</th>\n",
       "      <td>6.1</td>\n",
       "      <td>93941.0</td>\n",
       "    </tr>\n",
       "    <tr>\n",
       "      <th>20</th>\n",
       "      <td>6.9</td>\n",
       "      <td>91739.0</td>\n",
       "    </tr>\n",
       "    <tr>\n",
       "      <th>21</th>\n",
       "      <td>7.2</td>\n",
       "      <td>98274.0</td>\n",
       "    </tr>\n",
       "    <tr>\n",
       "      <th>22</th>\n",
       "      <td>8.0</td>\n",
       "      <td>101303.0</td>\n",
       "    </tr>\n",
       "    <tr>\n",
       "      <th>23</th>\n",
       "      <td>8.3</td>\n",
       "      <td>113813.0</td>\n",
       "    </tr>\n",
       "    <tr>\n",
       "      <th>24</th>\n",
       "      <td>8.8</td>\n",
       "      <td>109432.0</td>\n",
       "    </tr>\n",
       "    <tr>\n",
       "      <th>25</th>\n",
       "      <td>9.1</td>\n",
       "      <td>105583.0</td>\n",
       "    </tr>\n",
       "    <tr>\n",
       "      <th>26</th>\n",
       "      <td>9.6</td>\n",
       "      <td>116970.0</td>\n",
       "    </tr>\n",
       "    <tr>\n",
       "      <th>27</th>\n",
       "      <td>9.7</td>\n",
       "      <td>112636.0</td>\n",
       "    </tr>\n",
       "    <tr>\n",
       "      <th>28</th>\n",
       "      <td>10.4</td>\n",
       "      <td>122392.0</td>\n",
       "    </tr>\n",
       "    <tr>\n",
       "      <th>29</th>\n",
       "      <td>10.6</td>\n",
       "      <td>121873.0</td>\n",
       "    </tr>\n",
       "  </tbody>\n",
       "</table>\n",
       "</div>"
      ],
      "text/plain": [
       "    años experiencia   salario\n",
       "0                1.2   39344.0\n",
       "1                1.4   46206.0\n",
       "2                1.6   37732.0\n",
       "3                2.1   43526.0\n",
       "4                2.3   39892.0\n",
       "5                3.0   56643.0\n",
       "6                3.1   60151.0\n",
       "7                3.3   54446.0\n",
       "8                3.3   64446.0\n",
       "9                3.8   57190.0\n",
       "10               4.0   63219.0\n",
       "11               4.1   55795.0\n",
       "12               4.1   56958.0\n",
       "13               4.2   57082.0\n",
       "14               4.6   61112.0\n",
       "15               5.0   67939.0\n",
       "16               5.2   66030.0\n",
       "17               5.4   83089.0\n",
       "18               6.0   81364.0\n",
       "19               6.1   93941.0\n",
       "20               6.9   91739.0\n",
       "21               7.2   98274.0\n",
       "22               8.0  101303.0\n",
       "23               8.3  113813.0\n",
       "24               8.8  109432.0\n",
       "25               9.1  105583.0\n",
       "26               9.6  116970.0\n",
       "27               9.7  112636.0\n",
       "28              10.4  122392.0\n",
       "29              10.6  121873.0"
      ]
     },
     "execution_count": 5,
     "metadata": {},
     "output_type": "execute_result"
    }
   ],
   "source": [
    "df"
   ]
  },
  {
   "attachments": {},
   "cell_type": "markdown",
   "metadata": {},
   "source": [
    "2.2. Analisis Exploratorio de datos (EDA)"
   ]
  },
  {
   "attachments": {},
   "cell_type": "markdown",
   "metadata": {},
   "source": [
    "<p style=\"text-align: justify;\">El análisis exploratorio de datos (EDA) es utilizado por los científicos de datos para analizar e investigar conjuntos de datos y resumir sus principales características, empleando a menudo métodos de visualización de datos. Ayuda a determinar la mejor manera de manipular los orígenes de datos para obtener las respuestas que necesita, lo que permite a los científicos de datos descubrir patrones, detectar anomalías, probar una hipótesis o comprobar supuestos. (IBM, 2021)</p>\n",
    "\n"
   ]
  },
  {
   "attachments": {},
   "cell_type": "markdown",
   "metadata": {},
   "source": [
    "* Descripcion del DataFrame, para ver todos sus componentes; incluyendo desde la mediana a la moda, aclarando que es el analisis de las dos columnas que tiene dicho DataFrame"
   ]
  },
  {
   "cell_type": "code",
   "execution_count": 6,
   "metadata": {},
   "outputs": [
    {
     "data": {
      "text/html": [
       "<div>\n",
       "<style scoped>\n",
       "    .dataframe tbody tr th:only-of-type {\n",
       "        vertical-align: middle;\n",
       "    }\n",
       "\n",
       "    .dataframe tbody tr th {\n",
       "        vertical-align: top;\n",
       "    }\n",
       "\n",
       "    .dataframe thead th {\n",
       "        text-align: right;\n",
       "    }\n",
       "</style>\n",
       "<table border=\"1\" class=\"dataframe\">\n",
       "  <thead>\n",
       "    <tr style=\"text-align: right;\">\n",
       "      <th></th>\n",
       "      <th>años experiencia</th>\n",
       "      <th>salario</th>\n",
       "    </tr>\n",
       "  </thead>\n",
       "  <tbody>\n",
       "    <tr>\n",
       "      <th>count</th>\n",
       "      <td>30.000000</td>\n",
       "      <td>30.000000</td>\n",
       "    </tr>\n",
       "    <tr>\n",
       "      <th>mean</th>\n",
       "      <td>5.413333</td>\n",
       "      <td>76004.000000</td>\n",
       "    </tr>\n",
       "    <tr>\n",
       "      <th>std</th>\n",
       "      <td>2.837888</td>\n",
       "      <td>27414.429785</td>\n",
       "    </tr>\n",
       "    <tr>\n",
       "      <th>min</th>\n",
       "      <td>1.200000</td>\n",
       "      <td>37732.000000</td>\n",
       "    </tr>\n",
       "    <tr>\n",
       "      <th>25%</th>\n",
       "      <td>3.300000</td>\n",
       "      <td>56721.750000</td>\n",
       "    </tr>\n",
       "    <tr>\n",
       "      <th>50%</th>\n",
       "      <td>4.800000</td>\n",
       "      <td>65238.000000</td>\n",
       "    </tr>\n",
       "    <tr>\n",
       "      <th>75%</th>\n",
       "      <td>7.800000</td>\n",
       "      <td>100545.750000</td>\n",
       "    </tr>\n",
       "    <tr>\n",
       "      <th>max</th>\n",
       "      <td>10.600000</td>\n",
       "      <td>122392.000000</td>\n",
       "    </tr>\n",
       "  </tbody>\n",
       "</table>\n",
       "</div>"
      ],
      "text/plain": [
       "       años experiencia        salario\n",
       "count         30.000000      30.000000\n",
       "mean           5.413333   76004.000000\n",
       "std            2.837888   27414.429785\n",
       "min            1.200000   37732.000000\n",
       "25%            3.300000   56721.750000\n",
       "50%            4.800000   65238.000000\n",
       "75%            7.800000  100545.750000\n",
       "max           10.600000  122392.000000"
      ]
     },
     "execution_count": 6,
     "metadata": {},
     "output_type": "execute_result"
    }
   ],
   "source": [
    "df.describe()"
   ]
  },
  {
   "attachments": {},
   "cell_type": "markdown",
   "metadata": {},
   "source": [
    "* Conteo de casillas en las dos columnas del DataFrame:"
   ]
  },
  {
   "cell_type": "code",
   "execution_count": 7,
   "metadata": {},
   "outputs": [
    {
     "data": {
      "text/plain": [
       "años experiencia    30\n",
       "salario             30\n",
       "dtype: int64"
      ]
     },
     "execution_count": 7,
     "metadata": {},
     "output_type": "execute_result"
    }
   ],
   "source": [
    "# Conteo de Indices o filas con datos en el DataFrame\n",
    "df.count()"
   ]
  },
  {
   "attachments": {},
   "cell_type": "markdown",
   "metadata": {},
   "source": [
    "* La información del DataFrame:"
   ]
  },
  {
   "cell_type": "code",
   "execution_count": 8,
   "metadata": {},
   "outputs": [
    {
     "name": "stdout",
     "output_type": "stream",
     "text": [
      "<class 'pandas.core.frame.DataFrame'>\n",
      "RangeIndex: 30 entries, 0 to 29\n",
      "Data columns (total 2 columns):\n",
      " #   Column            Non-Null Count  Dtype  \n",
      "---  ------            --------------  -----  \n",
      " 0   años experiencia  30 non-null     float64\n",
      " 1   salario           30 non-null     float64\n",
      "dtypes: float64(2)\n",
      "memory usage: 608.0 bytes\n"
     ]
    }
   ],
   "source": [
    "df.info() "
   ]
  },
  {
   "cell_type": "markdown",
   "metadata": {
    "cell_id": "98956c390d15444487884a23187b7aa8",
    "deepnote_cell_type": "text-cell-number",
    "formattedRanges": [],
    "is_collapsed": false,
    "number": 3,
    "style": "decimal",
    "tags": []
   },
   "source": [
    "3. Visualización de Datos"
   ]
  },
  {
   "attachments": {},
   "cell_type": "markdown",
   "metadata": {},
   "source": [
    "En un libro, leyendo su introducción se afirma que: _\"A data visualization first and foremost has to accurately convey the data. It must not mislead or distort.\"_ [Una visualización de datos ante todo, tiene que transmitir con precisión los datos. No debe inducir a error ni distorsionar] (Wilke, 2019)."
   ]
  },
  {
   "attachments": {},
   "cell_type": "markdown",
   "metadata": {},
   "source": [
    "<p style=\"text-align: justify;\">Reflexionando la frase anterior, la visualización de los datos es un proceso por medio del cual, se toman los datos ya procesados u organozados, para representarlos en gráficos, cuyas representaciones, deben mostrar variables concordantes para la buena toma de decisiones; como dicen por ahí \"todo entra por los ojos.\" </p> "
   ]
  },
  {
   "attachments": {},
   "cell_type": "markdown",
   "metadata": {},
   "source": [
    "* Graficar el DataFrame, para que a medida en que el valor incremente, el color se verá más intenso:"
   ]
  },
  {
   "cell_type": "code",
   "execution_count": 9,
   "metadata": {},
   "outputs": [
    {
     "name": "stdout",
     "output_type": "stream",
     "text": [
      "Representando el estilo del DataFrame:\n"
     ]
    },
    {
     "name": "stderr",
     "output_type": "stream",
     "text": [
      "C:\\Users\\wagne\\AppData\\Local\\Temp\\ipykernel_6232\\2419219102.py:8: FutureWarning: this method is deprecated in favour of `Styler.format(precision=..)`\n",
      "  df.style.background_gradient(cmap=tabla_colorida).set_precision(0)#numero de decimales a agregar o quitar\n"
     ]
    },
    {
     "data": {
      "text/html": [
       "<style type=\"text/css\">\n",
       "#T_9a721_row0_col0, #T_9a721_row2_col1 {\n",
       "  background-color: #ebf3eb;\n",
       "  color: #000000;\n",
       "}\n",
       "#T_9a721_row0_col1 {\n",
       "  background-color: #e7f1e7;\n",
       "  color: #000000;\n",
       "}\n",
       "#T_9a721_row1_col0 {\n",
       "  background-color: #e6f1e6;\n",
       "  color: #000000;\n",
       "}\n",
       "#T_9a721_row1_col1, #T_9a721_row3_col0 {\n",
       "  background-color: #d4e8d4;\n",
       "  color: #000000;\n",
       "}\n",
       "#T_9a721_row2_col0 {\n",
       "  background-color: #e1eee1;\n",
       "  color: #000000;\n",
       "}\n",
       "#T_9a721_row3_col1 {\n",
       "  background-color: #dbebdb;\n",
       "  color: #000000;\n",
       "}\n",
       "#T_9a721_row4_col0 {\n",
       "  background-color: #d0e6d0;\n",
       "  color: #000000;\n",
       "}\n",
       "#T_9a721_row4_col1 {\n",
       "  background-color: #e5f0e5;\n",
       "  color: #000000;\n",
       "}\n",
       "#T_9a721_row5_col0 {\n",
       "  background-color: #bdddbd;\n",
       "  color: #000000;\n",
       "}\n",
       "#T_9a721_row5_col1, #T_9a721_row7_col0, #T_9a721_row8_col0 {\n",
       "  background-color: #b6d9b6;\n",
       "  color: #000000;\n",
       "}\n",
       "#T_9a721_row6_col0 {\n",
       "  background-color: #bcdcbc;\n",
       "  color: #000000;\n",
       "}\n",
       "#T_9a721_row6_col1 {\n",
       "  background-color: #add5ad;\n",
       "  color: #000000;\n",
       "}\n",
       "#T_9a721_row7_col1 {\n",
       "  background-color: #bddcbd;\n",
       "  color: #000000;\n",
       "}\n",
       "#T_9a721_row8_col1 {\n",
       "  background-color: #a1cfa1;\n",
       "  color: #000000;\n",
       "}\n",
       "#T_9a721_row9_col0, #T_9a721_row14_col1 {\n",
       "  background-color: #aad3aa;\n",
       "  color: #000000;\n",
       "}\n",
       "#T_9a721_row9_col1, #T_9a721_row12_col1, #T_9a721_row13_col1 {\n",
       "  background-color: #b5d9b5;\n",
       "  color: #000000;\n",
       "}\n",
       "#T_9a721_row10_col0 {\n",
       "  background-color: #a5d1a5;\n",
       "  color: #000000;\n",
       "}\n",
       "#T_9a721_row10_col1 {\n",
       "  background-color: #a4d0a4;\n",
       "  color: #000000;\n",
       "}\n",
       "#T_9a721_row11_col0, #T_9a721_row12_col0 {\n",
       "  background-color: #a3d0a3;\n",
       "  color: #000000;\n",
       "}\n",
       "#T_9a721_row11_col1 {\n",
       "  background-color: #b9dbb9;\n",
       "  color: #000000;\n",
       "}\n",
       "#T_9a721_row13_col0 {\n",
       "  background-color: #a0cea0;\n",
       "  color: #000000;\n",
       "}\n",
       "#T_9a721_row14_col0 {\n",
       "  background-color: #96c996;\n",
       "  color: #000000;\n",
       "}\n",
       "#T_9a721_row15_col0 {\n",
       "  background-color: #8cc58c;\n",
       "  color: #000000;\n",
       "}\n",
       "#T_9a721_row15_col1 {\n",
       "  background-color: #97ca97;\n",
       "  color: #000000;\n",
       "}\n",
       "#T_9a721_row16_col0 {\n",
       "  background-color: #87c287;\n",
       "  color: #000000;\n",
       "}\n",
       "#T_9a721_row16_col1 {\n",
       "  background-color: #9ccd9c;\n",
       "  color: #000000;\n",
       "}\n",
       "#T_9a721_row17_col0 {\n",
       "  background-color: #82c082;\n",
       "  color: #000000;\n",
       "}\n",
       "#T_9a721_row17_col1 {\n",
       "  background-color: #6db56d;\n",
       "  color: #f1f1f1;\n",
       "}\n",
       "#T_9a721_row18_col0 {\n",
       "  background-color: #73b873;\n",
       "  color: #f1f1f1;\n",
       "}\n",
       "#T_9a721_row18_col1 {\n",
       "  background-color: #72b872;\n",
       "  color: #f1f1f1;\n",
       "}\n",
       "#T_9a721_row19_col0 {\n",
       "  background-color: #70b770;\n",
       "  color: #f1f1f1;\n",
       "}\n",
       "#T_9a721_row19_col1 {\n",
       "  background-color: #4fa74f;\n",
       "  color: #f1f1f1;\n",
       "}\n",
       "#T_9a721_row20_col0 {\n",
       "  background-color: #5cad5c;\n",
       "  color: #f1f1f1;\n",
       "}\n",
       "#T_9a721_row20_col1, #T_9a721_row21_col0 {\n",
       "  background-color: #55a955;\n",
       "  color: #f1f1f1;\n",
       "}\n",
       "#T_9a721_row21_col1 {\n",
       "  background-color: #42a042;\n",
       "  color: #f1f1f1;\n",
       "}\n",
       "#T_9a721_row22_col0 {\n",
       "  background-color: #40a040;\n",
       "  color: #f1f1f1;\n",
       "}\n",
       "#T_9a721_row22_col1 {\n",
       "  background-color: #3a9c3a;\n",
       "  color: #f1f1f1;\n",
       "}\n",
       "#T_9a721_row23_col0 {\n",
       "  background-color: #399c39;\n",
       "  color: #f1f1f1;\n",
       "}\n",
       "#T_9a721_row23_col1 {\n",
       "  background-color: #178b17;\n",
       "  color: #f1f1f1;\n",
       "}\n",
       "#T_9a721_row24_col0 {\n",
       "  background-color: #2d962d;\n",
       "  color: #f1f1f1;\n",
       "}\n",
       "#T_9a721_row24_col1 {\n",
       "  background-color: #249224;\n",
       "  color: #f1f1f1;\n",
       "}\n",
       "#T_9a721_row25_col0 {\n",
       "  background-color: #259225;\n",
       "  color: #f1f1f1;\n",
       "}\n",
       "#T_9a721_row25_col1 {\n",
       "  background-color: #2e972e;\n",
       "  color: #f1f1f1;\n",
       "}\n",
       "#T_9a721_row26_col0 {\n",
       "  background-color: #198c19;\n",
       "  color: #f1f1f1;\n",
       "}\n",
       "#T_9a721_row26_col1 {\n",
       "  background-color: #0f870f;\n",
       "  color: #f1f1f1;\n",
       "}\n",
       "#T_9a721_row27_col0 {\n",
       "  background-color: #168b16;\n",
       "  color: #f1f1f1;\n",
       "}\n",
       "#T_9a721_row27_col1 {\n",
       "  background-color: #1b8d1b;\n",
       "  color: #f1f1f1;\n",
       "}\n",
       "#T_9a721_row28_col0 {\n",
       "  background-color: #058205;\n",
       "  color: #f1f1f1;\n",
       "}\n",
       "#T_9a721_row28_col1, #T_9a721_row29_col0 {\n",
       "  background-color: #008000;\n",
       "  color: #f1f1f1;\n",
       "}\n",
       "#T_9a721_row29_col1 {\n",
       "  background-color: #018001;\n",
       "  color: #f1f1f1;\n",
       "}\n",
       "</style>\n",
       "<table id=\"T_9a721\">\n",
       "  <thead>\n",
       "    <tr>\n",
       "      <th class=\"blank level0\" >&nbsp;</th>\n",
       "      <th id=\"T_9a721_level0_col0\" class=\"col_heading level0 col0\" >años experiencia</th>\n",
       "      <th id=\"T_9a721_level0_col1\" class=\"col_heading level0 col1\" >salario</th>\n",
       "    </tr>\n",
       "  </thead>\n",
       "  <tbody>\n",
       "    <tr>\n",
       "      <th id=\"T_9a721_level0_row0\" class=\"row_heading level0 row0\" >0</th>\n",
       "      <td id=\"T_9a721_row0_col0\" class=\"data row0 col0\" >1</td>\n",
       "      <td id=\"T_9a721_row0_col1\" class=\"data row0 col1\" >39344</td>\n",
       "    </tr>\n",
       "    <tr>\n",
       "      <th id=\"T_9a721_level0_row1\" class=\"row_heading level0 row1\" >1</th>\n",
       "      <td id=\"T_9a721_row1_col0\" class=\"data row1 col0\" >1</td>\n",
       "      <td id=\"T_9a721_row1_col1\" class=\"data row1 col1\" >46206</td>\n",
       "    </tr>\n",
       "    <tr>\n",
       "      <th id=\"T_9a721_level0_row2\" class=\"row_heading level0 row2\" >2</th>\n",
       "      <td id=\"T_9a721_row2_col0\" class=\"data row2 col0\" >2</td>\n",
       "      <td id=\"T_9a721_row2_col1\" class=\"data row2 col1\" >37732</td>\n",
       "    </tr>\n",
       "    <tr>\n",
       "      <th id=\"T_9a721_level0_row3\" class=\"row_heading level0 row3\" >3</th>\n",
       "      <td id=\"T_9a721_row3_col0\" class=\"data row3 col0\" >2</td>\n",
       "      <td id=\"T_9a721_row3_col1\" class=\"data row3 col1\" >43526</td>\n",
       "    </tr>\n",
       "    <tr>\n",
       "      <th id=\"T_9a721_level0_row4\" class=\"row_heading level0 row4\" >4</th>\n",
       "      <td id=\"T_9a721_row4_col0\" class=\"data row4 col0\" >2</td>\n",
       "      <td id=\"T_9a721_row4_col1\" class=\"data row4 col1\" >39892</td>\n",
       "    </tr>\n",
       "    <tr>\n",
       "      <th id=\"T_9a721_level0_row5\" class=\"row_heading level0 row5\" >5</th>\n",
       "      <td id=\"T_9a721_row5_col0\" class=\"data row5 col0\" >3</td>\n",
       "      <td id=\"T_9a721_row5_col1\" class=\"data row5 col1\" >56643</td>\n",
       "    </tr>\n",
       "    <tr>\n",
       "      <th id=\"T_9a721_level0_row6\" class=\"row_heading level0 row6\" >6</th>\n",
       "      <td id=\"T_9a721_row6_col0\" class=\"data row6 col0\" >3</td>\n",
       "      <td id=\"T_9a721_row6_col1\" class=\"data row6 col1\" >60151</td>\n",
       "    </tr>\n",
       "    <tr>\n",
       "      <th id=\"T_9a721_level0_row7\" class=\"row_heading level0 row7\" >7</th>\n",
       "      <td id=\"T_9a721_row7_col0\" class=\"data row7 col0\" >3</td>\n",
       "      <td id=\"T_9a721_row7_col1\" class=\"data row7 col1\" >54446</td>\n",
       "    </tr>\n",
       "    <tr>\n",
       "      <th id=\"T_9a721_level0_row8\" class=\"row_heading level0 row8\" >8</th>\n",
       "      <td id=\"T_9a721_row8_col0\" class=\"data row8 col0\" >3</td>\n",
       "      <td id=\"T_9a721_row8_col1\" class=\"data row8 col1\" >64446</td>\n",
       "    </tr>\n",
       "    <tr>\n",
       "      <th id=\"T_9a721_level0_row9\" class=\"row_heading level0 row9\" >9</th>\n",
       "      <td id=\"T_9a721_row9_col0\" class=\"data row9 col0\" >4</td>\n",
       "      <td id=\"T_9a721_row9_col1\" class=\"data row9 col1\" >57190</td>\n",
       "    </tr>\n",
       "    <tr>\n",
       "      <th id=\"T_9a721_level0_row10\" class=\"row_heading level0 row10\" >10</th>\n",
       "      <td id=\"T_9a721_row10_col0\" class=\"data row10 col0\" >4</td>\n",
       "      <td id=\"T_9a721_row10_col1\" class=\"data row10 col1\" >63219</td>\n",
       "    </tr>\n",
       "    <tr>\n",
       "      <th id=\"T_9a721_level0_row11\" class=\"row_heading level0 row11\" >11</th>\n",
       "      <td id=\"T_9a721_row11_col0\" class=\"data row11 col0\" >4</td>\n",
       "      <td id=\"T_9a721_row11_col1\" class=\"data row11 col1\" >55795</td>\n",
       "    </tr>\n",
       "    <tr>\n",
       "      <th id=\"T_9a721_level0_row12\" class=\"row_heading level0 row12\" >12</th>\n",
       "      <td id=\"T_9a721_row12_col0\" class=\"data row12 col0\" >4</td>\n",
       "      <td id=\"T_9a721_row12_col1\" class=\"data row12 col1\" >56958</td>\n",
       "    </tr>\n",
       "    <tr>\n",
       "      <th id=\"T_9a721_level0_row13\" class=\"row_heading level0 row13\" >13</th>\n",
       "      <td id=\"T_9a721_row13_col0\" class=\"data row13 col0\" >4</td>\n",
       "      <td id=\"T_9a721_row13_col1\" class=\"data row13 col1\" >57082</td>\n",
       "    </tr>\n",
       "    <tr>\n",
       "      <th id=\"T_9a721_level0_row14\" class=\"row_heading level0 row14\" >14</th>\n",
       "      <td id=\"T_9a721_row14_col0\" class=\"data row14 col0\" >5</td>\n",
       "      <td id=\"T_9a721_row14_col1\" class=\"data row14 col1\" >61112</td>\n",
       "    </tr>\n",
       "    <tr>\n",
       "      <th id=\"T_9a721_level0_row15\" class=\"row_heading level0 row15\" >15</th>\n",
       "      <td id=\"T_9a721_row15_col0\" class=\"data row15 col0\" >5</td>\n",
       "      <td id=\"T_9a721_row15_col1\" class=\"data row15 col1\" >67939</td>\n",
       "    </tr>\n",
       "    <tr>\n",
       "      <th id=\"T_9a721_level0_row16\" class=\"row_heading level0 row16\" >16</th>\n",
       "      <td id=\"T_9a721_row16_col0\" class=\"data row16 col0\" >5</td>\n",
       "      <td id=\"T_9a721_row16_col1\" class=\"data row16 col1\" >66030</td>\n",
       "    </tr>\n",
       "    <tr>\n",
       "      <th id=\"T_9a721_level0_row17\" class=\"row_heading level0 row17\" >17</th>\n",
       "      <td id=\"T_9a721_row17_col0\" class=\"data row17 col0\" >5</td>\n",
       "      <td id=\"T_9a721_row17_col1\" class=\"data row17 col1\" >83089</td>\n",
       "    </tr>\n",
       "    <tr>\n",
       "      <th id=\"T_9a721_level0_row18\" class=\"row_heading level0 row18\" >18</th>\n",
       "      <td id=\"T_9a721_row18_col0\" class=\"data row18 col0\" >6</td>\n",
       "      <td id=\"T_9a721_row18_col1\" class=\"data row18 col1\" >81364</td>\n",
       "    </tr>\n",
       "    <tr>\n",
       "      <th id=\"T_9a721_level0_row19\" class=\"row_heading level0 row19\" >19</th>\n",
       "      <td id=\"T_9a721_row19_col0\" class=\"data row19 col0\" >6</td>\n",
       "      <td id=\"T_9a721_row19_col1\" class=\"data row19 col1\" >93941</td>\n",
       "    </tr>\n",
       "    <tr>\n",
       "      <th id=\"T_9a721_level0_row20\" class=\"row_heading level0 row20\" >20</th>\n",
       "      <td id=\"T_9a721_row20_col0\" class=\"data row20 col0\" >7</td>\n",
       "      <td id=\"T_9a721_row20_col1\" class=\"data row20 col1\" >91739</td>\n",
       "    </tr>\n",
       "    <tr>\n",
       "      <th id=\"T_9a721_level0_row21\" class=\"row_heading level0 row21\" >21</th>\n",
       "      <td id=\"T_9a721_row21_col0\" class=\"data row21 col0\" >7</td>\n",
       "      <td id=\"T_9a721_row21_col1\" class=\"data row21 col1\" >98274</td>\n",
       "    </tr>\n",
       "    <tr>\n",
       "      <th id=\"T_9a721_level0_row22\" class=\"row_heading level0 row22\" >22</th>\n",
       "      <td id=\"T_9a721_row22_col0\" class=\"data row22 col0\" >8</td>\n",
       "      <td id=\"T_9a721_row22_col1\" class=\"data row22 col1\" >101303</td>\n",
       "    </tr>\n",
       "    <tr>\n",
       "      <th id=\"T_9a721_level0_row23\" class=\"row_heading level0 row23\" >23</th>\n",
       "      <td id=\"T_9a721_row23_col0\" class=\"data row23 col0\" >8</td>\n",
       "      <td id=\"T_9a721_row23_col1\" class=\"data row23 col1\" >113813</td>\n",
       "    </tr>\n",
       "    <tr>\n",
       "      <th id=\"T_9a721_level0_row24\" class=\"row_heading level0 row24\" >24</th>\n",
       "      <td id=\"T_9a721_row24_col0\" class=\"data row24 col0\" >9</td>\n",
       "      <td id=\"T_9a721_row24_col1\" class=\"data row24 col1\" >109432</td>\n",
       "    </tr>\n",
       "    <tr>\n",
       "      <th id=\"T_9a721_level0_row25\" class=\"row_heading level0 row25\" >25</th>\n",
       "      <td id=\"T_9a721_row25_col0\" class=\"data row25 col0\" >9</td>\n",
       "      <td id=\"T_9a721_row25_col1\" class=\"data row25 col1\" >105583</td>\n",
       "    </tr>\n",
       "    <tr>\n",
       "      <th id=\"T_9a721_level0_row26\" class=\"row_heading level0 row26\" >26</th>\n",
       "      <td id=\"T_9a721_row26_col0\" class=\"data row26 col0\" >10</td>\n",
       "      <td id=\"T_9a721_row26_col1\" class=\"data row26 col1\" >116970</td>\n",
       "    </tr>\n",
       "    <tr>\n",
       "      <th id=\"T_9a721_level0_row27\" class=\"row_heading level0 row27\" >27</th>\n",
       "      <td id=\"T_9a721_row27_col0\" class=\"data row27 col0\" >10</td>\n",
       "      <td id=\"T_9a721_row27_col1\" class=\"data row27 col1\" >112636</td>\n",
       "    </tr>\n",
       "    <tr>\n",
       "      <th id=\"T_9a721_level0_row28\" class=\"row_heading level0 row28\" >28</th>\n",
       "      <td id=\"T_9a721_row28_col0\" class=\"data row28 col0\" >10</td>\n",
       "      <td id=\"T_9a721_row28_col1\" class=\"data row28 col1\" >122392</td>\n",
       "    </tr>\n",
       "    <tr>\n",
       "      <th id=\"T_9a721_level0_row29\" class=\"row_heading level0 row29\" >29</th>\n",
       "      <td id=\"T_9a721_row29_col0\" class=\"data row29 col0\" >11</td>\n",
       "      <td id=\"T_9a721_row29_col1\" class=\"data row29 col1\" >121873</td>\n",
       "    </tr>\n",
       "  </tbody>\n",
       "</table>\n"
      ],
      "text/plain": [
       "<pandas.io.formats.style.Styler at 0x20e50692da0>"
      ]
     },
     "execution_count": 9,
     "metadata": {},
     "output_type": "execute_result"
    }
   ],
   "source": [
    "#colorear los valores del df segun su intensidad\n",
    "# se declara la variable \n",
    "# se toman el df para colorearlo como se desee\n",
    "tabla_colorida = sns.light_palette(\"green\", as_cmap=True)\n",
    " \n",
    "# visualizar el df\n",
    "print(\"Representando el estilo del DataFrame:\")\n",
    "df.style.background_gradient(cmap=tabla_colorida).set_precision(0)#numero de decimales a agregar o quitar"
   ]
  },
  {
   "attachments": {},
   "cell_type": "markdown",
   "metadata": {},
   "source": [
    "* Grafica de linea, para mostrar la tendencia de salarios conforme a la antiguedad de los programadores."
   ]
  },
  {
   "cell_type": "code",
   "execution_count": 10,
   "metadata": {},
   "outputs": [
    {
     "data": {
      "image/png": "[encoded data removed]",
      "text/plain": [
       "<Figure size 432x288 with 1 Axes>"
      ]
     },
     "metadata": {
      "needs_background": "light"
     },
     "output_type": "display_data"
    }
   ],
   "source": [
    "sns.lineplot(data=df, x=\"años experiencia\", y=\"salario\", color='green', marker = \"D\")\n",
    "plt.title(\"SALARIOS DE LOS PROGRAMADORES (EN UNIDADES MONETARIAS)\")\n",
    "plt.xlabel(\"Años de experiencia\")\n",
    "plt.ylabel(\"Unidades monetarias\")\n",
    "plt.savefig('C:/Users/wagne/Downloads/Analisis salarios programadores/reports/lineplot.jpg')"
   ]
  },
  {
   "attachments": {},
   "cell_type": "markdown",
   "metadata": {},
   "source": [
    "4. Analisis estadístico"
   ]
  },
  {
   "attachments": {},
   "cell_type": "markdown",
   "metadata": {},
   "source": [
    "El análisis estadístico es la recopilación e interpretación de datos para descubrir patrones y tendencias. - (De TechTarget, 2021).\n",
    "\n",
    "Para este caso, se utilizará el análisis descriptivo de los datos, que consiste en describir o conocer los datos, las tendencias claves en los mismos y observar las situaciones que conduzcan a nuevos hechos."
   ]
  },
  {
   "attachments": {},
   "cell_type": "markdown",
   "metadata": {},
   "source": [
    "* Histograma, que se utiliza para representar la distribución de frecuencias de algunos puntos de datos de una variable."
   ]
  },
  {
   "cell_type": "code",
   "execution_count": 11,
   "metadata": {},
   "outputs": [
    {
     "data": {
      "image/png": "[encoded data removed]",
      "text/plain": [
       "<Figure size 432x288 with 1 Axes>"
      ]
     },
     "metadata": {
      "needs_background": "light"
     },
     "output_type": "display_data"
    },
    {
     "data": {
      "text/plain": [
       "<Figure size 432x288 with 0 Axes>"
      ]
     },
     "metadata": {},
     "output_type": "display_data"
    }
   ],
   "source": [
    "#https://appgametutoriales.com/hacer-un-histograma-en-python/\n",
    "plt.hist(df['salario'],color = \"blue\",rwidth=0.9) # se ponen a graficar el dataframe tomando como referencia los \n",
    "plt.title(\"HISTOGRAMA SALARIOS DE LOS PROGRAMADORES\")\n",
    "plt.xlabel(\"Salario\")\n",
    "plt.show()\n",
    "plt.savefig('C:/Users/wagne/Downloads/Analisis salarios programadores/reports/histogram.jpg')"
   ]
  },
  {
   "attachments": {},
   "cell_type": "markdown",
   "metadata": {},
   "source": [
    "+ Media o promedio, se define como la suma de N elementos dividida entre N. Se trata una medida bastante conocida entre la gente, aunque tiene el inconveniente de que es muy susceptible a valores extremos. - (Estadística en Python: media, mediana, varianza, percentiles (Parte III), 2017)"
   ]
  },
  {
   "cell_type": "code",
   "execution_count": 12,
   "metadata": {},
   "outputs": [
    {
     "name": "stdout",
     "output_type": "stream",
     "text": [
      "la media es: 76004.0\n"
     ]
    }
   ],
   "source": [
    "#calculo de la media o promedio \n",
    "media=df[\"salario\"].mean()\n",
    "\n",
    "print(\"la media es:\", media)\n"
   ]
  },
  {
   "attachments": {},
   "cell_type": "markdown",
   "metadata": {},
   "source": [
    "* Mediana, que viene el valor dentro del conjunto de datos que es menor que el 50% de los datos y mayor que el 50% restante."
   ]
  },
  {
   "cell_type": "code",
   "execution_count": 13,
   "metadata": {},
   "outputs": [
    {
     "name": "stdout",
     "output_type": "stream",
     "text": [
      "La mediana es: 65238.0\n"
     ]
    }
   ],
   "source": [
    "#calculo de la mediana -https://blog.adrianistan.eu/estadistica-python-media-mediana-varianza-percentiles-parte-iii\n",
    "mediana=df[\"salario\"].median()\n",
    "\n",
    "print(\"La mediana es:\", mediana)"
   ]
  },
  {
   "attachments": {},
   "cell_type": "markdown",
   "metadata": {},
   "source": [
    "* La moda, que viende siendo el valor más repetido (solo aplicable a variables discretas)."
   ]
  },
  {
   "cell_type": "code",
   "execution_count": 14,
   "metadata": {},
   "outputs": [
    {
     "name": "stdout",
     "output_type": "stream",
     "text": [
      "La moda es: 0      37732.0\n",
      "1      39344.0\n",
      "2      39892.0\n",
      "3      43526.0\n",
      "4      46206.0\n",
      "5      54446.0\n",
      "6      55795.0\n",
      "7      56643.0\n",
      "8      56958.0\n",
      "9      57082.0\n",
      "10     57190.0\n",
      "11     60151.0\n",
      "12     61112.0\n",
      "13     63219.0\n",
      "14     64446.0\n",
      "15     66030.0\n",
      "16     67939.0\n",
      "17     81364.0\n",
      "18     83089.0\n",
      "19     91739.0\n",
      "20     93941.0\n",
      "21     98274.0\n",
      "22    101303.0\n",
      "23    105583.0\n",
      "24    109432.0\n",
      "25    112636.0\n",
      "26    113813.0\n",
      "27    116970.0\n",
      "28    121873.0\n",
      "29    122392.0\n",
      "Name: salario, dtype: float64\n"
     ]
    }
   ],
   "source": [
    "#Calculo de la moda \n",
    "moda=df[\"salario\"].mode()\n",
    "print(\"La moda es:\", moda)"
   ]
  },
  {
   "attachments": {},
   "cell_type": "markdown",
   "metadata": {},
   "source": [
    "* Los percentiles y cuantiles, viene siendo igual al de mediana, salvo que aquí la división ya no es en el 50%. "
   ]
  },
  {
   "cell_type": "code",
   "execution_count": 15,
   "metadata": {},
   "outputs": [
    {
     "name": "stdout",
     "output_type": "stream",
     "text": [
      "El cuartil y percentil es:  114128.70000000001\n"
     ]
    }
   ],
   "source": [
    "p90 = df[\"salario\"].quantile(0.9)\n",
    "print(\"El cuartil y percentil es: \", p90)\n",
    "\n",
    "#El concepto es igual al de mediana, salvo que aquí la división ya no es en el 50%. \n",
    "#El 25% de las observaciones es menor que el primer cuartil. \n",
    "#Los cuartiles abarcan el 25%, 50% y 75% de las observaciones. Los percentiles son una generalización con cualquier porcentaje."
   ]
  },
  {
   "attachments": {},
   "cell_type": "markdown",
   "metadata": {},
   "source": [
    "* La linea asimetrica, tiene una pendiente negativa, conforme a los valores registrados en los datos."
   ]
  },
  {
   "cell_type": "code",
   "execution_count": 16,
   "metadata": {},
   "outputs": [
    {
     "data": {
      "image/png": "[encoded data removed]",
      "text/plain": [
       "<Figure size 432x288 with 1 Axes>"
      ]
     },
     "metadata": {
      "needs_background": "light"
     },
     "output_type": "display_data"
    }
   ],
   "source": [
    "#DENSIDAD DE PROBABILIDAD\n",
    "sns.kdeplot(\n",
    "    data= df,\n",
    "    x='salario'#VARIABLE   \n",
    ")\n",
    "\n",
    "plt.title('LINEA ASIMÉTRICA SALARIO DE LOS PROGRAMADORES')\n",
    "plt.savefig('C:/Users/wagne/Downloads/Analisis salarios programadores/reports/asymmetry.jpg')"
   ]
  },
  {
   "attachments": {},
   "cell_type": "markdown",
   "metadata": {},
   "source": [
    "* Se muestra una representacxión grafica de la asimetría, en el fondo se puede evidenciar la agrupación de los datos."
   ]
  },
  {
   "cell_type": "code",
   "execution_count": 17,
   "metadata": {},
   "outputs": [
    {
     "name": "stderr",
     "output_type": "stream",
     "text": [
      "c:\\Users\\wagne\\AppData\\Local\\Programs\\Python\\Python310\\lib\\site-packages\\seaborn\\distributions.py:2619: FutureWarning: `distplot` is a deprecated function and will be removed in a future version. Please adapt your code to use either `displot` (a figure-level function with similar flexibility) or `histplot` (an axes-level function for histograms).\n",
      "  warnings.warn(msg, FutureWarning)\n"
     ]
    },
    {
     "data": {
      "image/png": "[encoded data removed]",
      "text/plain": [
       "<Figure size 432x288 with 1 Axes>"
      ]
     },
     "metadata": {
      "needs_background": "light"
     },
     "output_type": "display_data"
    }
   ],
   "source": [
    "#Representación gráfica de la asimetría\n",
    "plt.title('REPRESENTACIÓN GRÁFICA ASIMÉTRICA SALARIO DE LOS PROGRAMADORES')\n",
    "sns.distplot(df['salario']);\n",
    "plt.savefig('C:/Users/wagne/Downloads/Analisis salarios programadores/reports/asymmetry_grap.jpg')"
   ]
  },
  {
   "attachments": {},
   "cell_type": "markdown",
   "metadata": {},
   "source": [
    "* El coeficiente de correlacion, que viene siendo Métrica que mide el grado en que las variables numéricas están asociadas entre sí (varía de –1 a +1)."
   ]
  },
  {
   "cell_type": "code",
   "execution_count": 18,
   "metadata": {},
   "outputs": [
    {
     "data": {
      "text/html": [
       "<div>\n",
       "<style scoped>\n",
       "    .dataframe tbody tr th:only-of-type {\n",
       "        vertical-align: middle;\n",
       "    }\n",
       "\n",
       "    .dataframe tbody tr th {\n",
       "        vertical-align: top;\n",
       "    }\n",
       "\n",
       "    .dataframe thead th {\n",
       "        text-align: right;\n",
       "    }\n",
       "</style>\n",
       "<table border=\"1\" class=\"dataframe\">\n",
       "  <thead>\n",
       "    <tr style=\"text-align: right;\">\n",
       "      <th></th>\n",
       "      <th>años experiencia</th>\n",
       "      <th>salario</th>\n",
       "    </tr>\n",
       "  </thead>\n",
       "  <tbody>\n",
       "    <tr>\n",
       "      <th>años experiencia</th>\n",
       "      <td>1.000000</td>\n",
       "      <td>0.978242</td>\n",
       "    </tr>\n",
       "    <tr>\n",
       "      <th>salario</th>\n",
       "      <td>0.978242</td>\n",
       "      <td>1.000000</td>\n",
       "    </tr>\n",
       "  </tbody>\n",
       "</table>\n",
       "</div>"
      ],
      "text/plain": [
       "                  años experiencia   salario\n",
       "años experiencia          1.000000  0.978242\n",
       "salario                   0.978242  1.000000"
      ]
     },
     "execution_count": 18,
     "metadata": {},
     "output_type": "execute_result"
    }
   ],
   "source": [
    "# Calculo del coeficiente de correlación que es es la medida específica que cuantifica la intensidad de la relación lineal entre dos variables en un análisis de correlación. En los informes de correlación, este coeficiente se simboliza con la r.\n",
    "df.corr()\n",
    "# por ende se da a entender que que el coeficiente es positivo, porque valores de ambas variables tienden a incrementarse juntos."
   ]
  },
  {
   "attachments": {},
   "cell_type": "markdown",
   "metadata": {},
   "source": [
    "* Graficando el coefiente de correlacion, el cual se puede interpretar en un sencillo mapa de calor."
   ]
  },
  {
   "cell_type": "code",
   "execution_count": 19,
   "metadata": {},
   "outputs": [
    {
     "data": {
      "image/png": "[encoded data removed]",
      "text/plain": [
       "<Figure size 432x288 with 1 Axes>"
      ]
     },
     "metadata": {
      "needs_background": "light"
     },
     "output_type": "display_data"
    }
   ],
   "source": [
    "#Graficando el coeficiente\n",
    "sns.heatmap(df.corr(), annot= True, cmap='coolwarm', linewidths=5, linecolor='black', vmin=0.5,vmax=1,cbar=False);\n",
    "plt.title('MAPA DE CALOR SALARIO vs EXPERIENCIA PROGRAMADORES')\n",
    "plt.savefig('C:/Users/wagne/Downloads/Analisis salarios programadores/reports/heatmap.jpg')"
   ]
  },
  {
   "attachments": {},
   "cell_type": "markdown",
   "metadata": {},
   "source": [
    "* La covarianza, que es la medida del grado en que una variable varía de acuerdo con otra (es decir magnitud y dirección similares)."
   ]
  },
  {
   "cell_type": "code",
   "execution_count": 20,
   "metadata": {},
   "outputs": [
    {
     "data": {
      "text/html": [
       "<div>\n",
       "<style scoped>\n",
       "    .dataframe tbody tr th:only-of-type {\n",
       "        vertical-align: middle;\n",
       "    }\n",
       "\n",
       "    .dataframe tbody tr th {\n",
       "        vertical-align: top;\n",
       "    }\n",
       "\n",
       "    .dataframe thead th {\n",
       "        text-align: right;\n",
       "    }\n",
       "</style>\n",
       "<table border=\"1\" class=\"dataframe\">\n",
       "  <thead>\n",
       "    <tr style=\"text-align: right;\">\n",
       "      <th></th>\n",
       "      <th>años experiencia</th>\n",
       "      <th>salario</th>\n",
       "    </tr>\n",
       "  </thead>\n",
       "  <tbody>\n",
       "    <tr>\n",
       "      <th>años experiencia</th>\n",
       "      <td>8.053609</td>\n",
       "      <td>7.610630e+04</td>\n",
       "    </tr>\n",
       "    <tr>\n",
       "      <th>salario</th>\n",
       "      <td>76106.303448</td>\n",
       "      <td>7.515510e+08</td>\n",
       "    </tr>\n",
       "  </tbody>\n",
       "</table>\n",
       "</div>"
      ],
      "text/plain": [
       "                  años experiencia       salario\n",
       "años experiencia          8.053609  7.610630e+04\n",
       "salario               76106.303448  7.515510e+08"
      ]
     },
     "execution_count": 20,
     "metadata": {},
     "output_type": "execute_result"
    }
   ],
   "source": [
    "# Calculo de la covarianza que es La covarianza nos mide la covariación conjunta de dos variables: Si es positiva nos dará la información de que a valores altos de una de las variable hay una mayor tendencia a encontrar valores altos de la otra variable y a valores bajos de una de las variable ,correspondientemente valores bajos.\n",
    "df.cov()\n",
    "#se influye que es positiva porque incrementa, ya que hay numeros positivos"
   ]
  },
  {
   "attachments": {},
   "cell_type": "markdown",
   "metadata": {},
   "source": [
    "* La varianza, se refiere al error de modelado que se produce debido a la elección de los datos de entrenamiento."
   ]
  },
  {
   "cell_type": "code",
   "execution_count": 21,
   "metadata": {},
   "outputs": [
    {
     "data": {
      "text/plain": [
       "751550960.4137931"
      ]
     },
     "execution_count": 21,
     "metadata": {},
     "output_type": "execute_result"
    }
   ],
   "source": [
    "# Calculo de la varianza que es la forma de como entender los datos en su dispersión y variabilidad, es decir si los valores están alejados y desviados o no de la media, por que si está alejado de esta.\n",
    "df['salario'].var()"
   ]
  },
  {
   "attachments": {},
   "cell_type": "markdown",
   "metadata": {},
   "source": [
    "* Se hace un resumen estadistico de la columna salarios, para ver todas variables estadisticas que tiene."
   ]
  },
  {
   "cell_type": "code",
   "execution_count": 22,
   "metadata": {},
   "outputs": [
    {
     "data": {
      "text/plain": [
       "count        30.000000\n",
       "mean      76004.000000\n",
       "std       27414.429785\n",
       "min       37732.000000\n",
       "25%       56721.750000\n",
       "50%       65238.000000\n",
       "75%      100545.750000\n",
       "max      122392.000000\n",
       "Name: salario, dtype: float64"
      ]
     },
     "execution_count": 22,
     "metadata": {},
     "output_type": "execute_result"
    }
   ],
   "source": [
    "# Realización de un resumen estadístico deL salario de los programadores\n",
    "df['salario'].describe()"
   ]
  },
  {
   "attachments": {},
   "cell_type": "markdown",
   "metadata": {},
   "source": [
    "4. Predicción"
   ]
  },
  {
   "attachments": {},
   "cell_type": "markdown",
   "metadata": {
    "cell_id": "19dc130808954a7e81d9a715cdcd8750",
    "deepnote_cell_type": "text-cell-p",
    "formattedRanges": [],
    "is_collapsed": false,
    "tags": []
   },
   "source": [
    "<p style=\"text-align: justify;\">En este numeral, se desarrollará un modelo de Machine Learning, para saber proyecciones de los salarios en los programadores; cuya proyección, se utilizará el modelo de regresión lineal (Linear Regression), con la libreía de Sckit-Learn.</p>\n",
    "\n",
    "<p style=\"text-align: justify;\">En el siguiente cuadro de código, se importarán las librerías necesarias, para poner en marcha el modelo; así mismo, se definirán las variables necesarias, para modelar la información; teniendo en cuenta la variable X & Y. </p>"
   ]
  },
  {
   "cell_type": "code",
   "execution_count": 23,
   "metadata": {
    "cell_id": "4e977a776f104b759cff4f30bee4e5fb",
    "deepnote_cell_type": "code",
    "tags": []
   },
   "outputs": [
    {
     "data": {
      "text/html": [
       "<style>#sk-container-id-1 {color: black;background-color: white;}#sk-container-id-1 pre{padding: 0;}#sk-container-id-1 div.sk-toggleable {background-color: white;}#sk-container-id-1 label.sk-toggleable__label {cursor: pointer;display: block;width: 100%;margin-bottom: 0;padding: 0.3em;box-sizing: border-box;text-align: center;}#sk-container-id-1 label.sk-toggleable__label-arrow:before {content: \"▸\";float: left;margin-right: 0.25em;color: #696969;}#sk-container-id-1 label.sk-toggleable__label-arrow:hover:before {color: black;}#sk-container-id-1 div.sk-estimator:hover label.sk-toggleable__label-arrow:before {color: black;}#sk-container-id-1 div.sk-toggleable__content {max-height: 0;max-width: 0;overflow: hidden;text-align: left;background-color: #f0f8ff;}#sk-container-id-1 div.sk-toggleable__content pre {margin: 0.2em;color: black;border-radius: 0.25em;background-color: #f0f8ff;}#sk-container-id-1 input.sk-toggleable__control:checked~div.sk-toggleable__content {max-height: 200px;max-width: 100%;overflow: auto;}#sk-container-id-1 input.sk-toggleable__control:checked~label.sk-toggleable__label-arrow:before {content: \"▾\";}#sk-container-id-1 div.sk-estimator input.sk-toggleable__control:checked~label.sk-toggleable__label {background-color: #d4ebff;}#sk-container-id-1 div.sk-label input.sk-toggleable__control:checked~label.sk-toggleable__label {background-color: #d4ebff;}#sk-container-id-1 input.sk-hidden--visually {border: 0;clip: rect(1px 1px 1px 1px);clip: rect(1px, 1px, 1px, 1px);height: 1px;margin: -1px;overflow: hidden;padding: 0;position: absolute;width: 1px;}#sk-container-id-1 div.sk-estimator {font-family: monospace;background-color: #f0f8ff;border: 1px dotted black;border-radius: 0.25em;box-sizing: border-box;margin-bottom: 0.5em;}#sk-container-id-1 div.sk-estimator:hover {background-color: #d4ebff;}#sk-container-id-1 div.sk-parallel-item::after {content: \"\";width: 100%;border-bottom: 1px solid gray;flex-grow: 1;}#sk-container-id-1 div.sk-label:hover label.sk-toggleable__label {background-color: #d4ebff;}#sk-container-id-1 div.sk-serial::before {content: \"\";position: absolute;border-left: 1px solid gray;box-sizing: border-box;top: 0;bottom: 0;left: 50%;z-index: 0;}#sk-container-id-1 div.sk-serial {display: flex;flex-direction: column;align-items: center;background-color: white;padding-right: 0.2em;padding-left: 0.2em;position: relative;}#sk-container-id-1 div.sk-item {position: relative;z-index: 1;}#sk-container-id-1 div.sk-parallel {display: flex;align-items: stretch;justify-content: center;background-color: white;position: relative;}#sk-container-id-1 div.sk-item::before, #sk-container-id-1 div.sk-parallel-item::before {content: \"\";position: absolute;border-left: 1px solid gray;box-sizing: border-box;top: 0;bottom: 0;left: 50%;z-index: -1;}#sk-container-id-1 div.sk-parallel-item {display: flex;flex-direction: column;z-index: 1;position: relative;background-color: white;}#sk-container-id-1 div.sk-parallel-item:first-child::after {align-self: flex-end;width: 50%;}#sk-container-id-1 div.sk-parallel-item:last-child::after {align-self: flex-start;width: 50%;}#sk-container-id-1 div.sk-parallel-item:only-child::after {width: 0;}#sk-container-id-1 div.sk-dashed-wrapped {border: 1px dashed gray;margin: 0 0.4em 0.5em 0.4em;box-sizing: border-box;padding-bottom: 0.4em;background-color: white;}#sk-container-id-1 div.sk-label label {font-family: monospace;font-weight: bold;display: inline-block;line-height: 1.2em;}#sk-container-id-1 div.sk-label-container {text-align: center;}#sk-container-id-1 div.sk-container {/* jupyter's `normalize.less` sets `[hidden] { display: none; }` but bootstrap.min.css set `[hidden] { display: none !important; }` so we also need the `!important` here to be able to override the default hidden behavior on the sphinx rendered scikit-learn.org. See: https://github.com/scikit-learn/scikit-learn/issues/21755 */display: inline-block !important;position: relative;}#sk-container-id-1 div.sk-text-repr-fallback {display: none;}</style><div id=\"sk-container-id-1\" class=\"sk-top-container\"><div class=\"sk-text-repr-fallback\"><pre>LinearRegression()</pre><b>In a Jupyter environment, please rerun this cell to show the HTML representation or trust the notebook. <br />On GitHub, the HTML representation is unable to render, please try loading this page with nbviewer.org.</b></div><div class=\"sk-container\" hidden><div class=\"sk-item\"><div class=\"sk-estimator sk-toggleable\"><input class=\"sk-toggleable__control sk-hidden--visually\" id=\"sk-estimator-id-1\" type=\"checkbox\" checked><label for=\"sk-estimator-id-1\" class=\"sk-toggleable__label sk-toggleable__label-arrow\">LinearRegression</label><div class=\"sk-toggleable__content\"><pre>LinearRegression()</pre></div></div></div></div></div>"
      ],
      "text/plain": [
       "LinearRegression()"
      ]
     },
     "execution_count": 23,
     "metadata": {},
     "output_type": "execute_result"
    }
   ],
   "source": [
    "\n",
    "# modelo Regresión lineal con sckit learn\n",
    "from sklearn.preprocessing import StandardScaler\n",
    "from sklearn.linear_model import LinearRegression\n",
    "\n",
    "#se definen las variables a analizar y predecir\n",
    "x = df['años experiencia'].values.reshape(-1, 1)\n",
    "y = df['salario'].values.reshape(-1, 1)\n",
    "\n",
    "#standarizar los valores de los ejes que se van analizar\n",
    "sc_x = StandardScaler()\n",
    "sc_y = StandardScaler()\n",
    "\n",
    "#modelado de estandarización\n",
    "x_std = sc_x.fit_transform(x)\n",
    "y_std = sc_y.fit_transform(y)\n",
    "\n",
    "#aplicacion y ejecucion del modelo\n",
    "slr = LinearRegression()\n",
    "slr.fit(x_std, y_std)\n",
    "\n",
    "#nota: se debe analizar solo con variables numericas, mas no con variables categoricas, las cuales, deben estar \n",
    "#completamente limpias y organnizadas.\n"
   ]
  },
  {
   "attachments": {},
   "cell_type": "markdown",
   "metadata": {},
   "source": [
    "<p style=\"text-align: justify;\">Se hará la gráfica de tipo de dispersión (Scatter) y trazar la linea de la regresión en color rojo, utilizando la librería Matplotlib.</p>"
   ]
  },
  {
   "cell_type": "code",
   "execution_count": 24,
   "metadata": {},
   "outputs": [
    {
     "data": {
      "image/png": "[encoded data removed]",
      "text/plain": [
       "<Figure size 432x288 with 1 Axes>"
      ]
     },
     "metadata": {
      "needs_background": "light"
     },
     "output_type": "display_data"
    }
   ],
   "source": [
    "plt.scatter(x_std,y_std)\n",
    "\n",
    "plt.plot(x_std,slr.predict(x_std), color='Red')\n",
    "\n",
    "#..tener en cuenta que:\n",
    "#x = df['años experiencia'].values.reshape(-1, 1)\n",
    "#y = df['salario'].values.reshape(-1, 1)\n",
    "\n",
    "plt.title(\"SALARIOS DE LOS PROGRAMADORES\")\n",
    "plt.xlabel(\"años experiencia\")\n",
    "plt.ylabel(\"salario\")\n",
    "#instrucción para guardar la imagen graficada en una carpeta del proyecto.\n",
    "plt.savefig('C:/Users/wagne/Downloads/Analisis salarios programadores/reports/linear_regression.jpg')"
   ]
  },
  {
   "attachments": {},
   "cell_type": "markdown",
   "metadata": {},
   "source": [
    "5. Entrenamiento del modelo"
   ]
  },
  {
   "attachments": {},
   "cell_type": "markdown",
   "metadata": {},
   "source": [
    "<p style=\"text-align: justify;\">La evaluación, consiste en saber que tan preciso es el modelo de regresión lineal utilizado, midiendolo con porcentaje.</p>"
   ]
  },
  {
   "attachments": {},
   "cell_type": "markdown",
   "metadata": {},
   "source": [
    "Se utiliza el metodo shape de Pandas, para describir el conjunto de datos en filas y columnas."
   ]
  },
  {
   "cell_type": "code",
   "execution_count": 25,
   "metadata": {},
   "outputs": [
    {
     "data": {
      "text/plain": [
       "(30, 2)"
      ]
     },
     "execution_count": 25,
     "metadata": {},
     "output_type": "execute_result"
    }
   ],
   "source": [
    "df.shape"
   ]
  },
  {
   "attachments": {},
   "cell_type": "markdown",
   "metadata": {},
   "source": [
    "<p style=\"text-align: justify;\">Se procede a dividir los datos en X y Y. Donde Y es la variable, por la cual el regresor trazará la linea recta de color rojo, desde el numero negativo al numero positivo.</p>\n",
    "\n"
   ]
  },
  {
   "cell_type": "code",
   "execution_count": 26,
   "metadata": {},
   "outputs": [],
   "source": [
    "x = df.iloc[:, :-1].values\n",
    "y = df.iloc[:, 1].values"
   ]
  },
  {
   "attachments": {},
   "cell_type": "markdown",
   "metadata": {},
   "source": [
    "<p style=\"text-align: justify;\">Se hace el testeo como: test_size = 1 / 3 test_size = 0.2 -> se divide el conjunto de datos en una proporción de 80% entrenamiento - 20% de prueba, que es una práctica común en el proceso de ciencia de datos.</p>\n",
    "\n",
    "<p style=\"text-align: justify;\">El parámetro random_state se utiliza para reordenar los datos, si se pasa el valor de 0 entonces todas y cada una de las veces en que lo ejecutamos tendremos un resultado consistente o estable.</p>"
   ]
  },
  {
   "cell_type": "code",
   "execution_count": 27,
   "metadata": {},
   "outputs": [],
   "source": [
    "X_train, X_test, Y_train, Y_test = train_test_split(x, y, test_size = 0.2, random_state = 0)"
   ]
  },
  {
   "attachments": {},
   "cell_type": "markdown",
   "metadata": {},
   "source": [
    "Se procede con entrenar el algoritmo desde la variable independiente, es decir X."
   ]
  },
  {
   "cell_type": "code",
   "execution_count": 28,
   "metadata": {},
   "outputs": [
    {
     "data": {
      "text/plain": [
       "array([[ 9.7],\n",
       "       [ 4.1],\n",
       "       [ 5.4],\n",
       "       [ 8. ],\n",
       "       [ 3. ],\n",
       "       [ 5.2],\n",
       "       [ 3.3],\n",
       "       [ 4.6],\n",
       "       [ 8.3],\n",
       "       [ 6.9],\n",
       "       [ 1.4],\n",
       "       [10.6],\n",
       "       [ 3.1],\n",
       "       [ 2.3],\n",
       "       [ 6. ],\n",
       "       [ 6.1],\n",
       "       [ 3.8],\n",
       "       [ 3.3],\n",
       "       [ 9.1],\n",
       "       [ 2.1],\n",
       "       [ 1.2],\n",
       "       [ 7.2],\n",
       "       [ 5. ],\n",
       "       [ 4.1]])"
      ]
     },
     "execution_count": 28,
     "metadata": {},
     "output_type": "execute_result"
    }
   ],
   "source": [
    "X_train"
   ]
  },
  {
   "attachments": {},
   "cell_type": "markdown",
   "metadata": {},
   "source": [
    "* El algoritmo de Machine Learning declarado para hacer los entrenamientos (Train) y las pruebas (Test) declarandolo como un regresor, para predecir una variable de respuesta."
   ]
  },
  {
   "cell_type": "code",
   "execution_count": 29,
   "metadata": {},
   "outputs": [
    {
     "data": {
      "text/html": [
       "<style>#sk-container-id-2 {color: black;background-color: white;}#sk-container-id-2 pre{padding: 0;}#sk-container-id-2 div.sk-toggleable {background-color: white;}#sk-container-id-2 label.sk-toggleable__label {cursor: pointer;display: block;width: 100%;margin-bottom: 0;padding: 0.3em;box-sizing: border-box;text-align: center;}#sk-container-id-2 label.sk-toggleable__label-arrow:before {content: \"▸\";float: left;margin-right: 0.25em;color: #696969;}#sk-container-id-2 label.sk-toggleable__label-arrow:hover:before {color: black;}#sk-container-id-2 div.sk-estimator:hover label.sk-toggleable__label-arrow:before {color: black;}#sk-container-id-2 div.sk-toggleable__content {max-height: 0;max-width: 0;overflow: hidden;text-align: left;background-color: #f0f8ff;}#sk-container-id-2 div.sk-toggleable__content pre {margin: 0.2em;color: black;border-radius: 0.25em;background-color: #f0f8ff;}#sk-container-id-2 input.sk-toggleable__control:checked~div.sk-toggleable__content {max-height: 200px;max-width: 100%;overflow: auto;}#sk-container-id-2 input.sk-toggleable__control:checked~label.sk-toggleable__label-arrow:before {content: \"▾\";}#sk-container-id-2 div.sk-estimator input.sk-toggleable__control:checked~label.sk-toggleable__label {background-color: #d4ebff;}#sk-container-id-2 div.sk-label input.sk-toggleable__control:checked~label.sk-toggleable__label {background-color: #d4ebff;}#sk-container-id-2 input.sk-hidden--visually {border: 0;clip: rect(1px 1px 1px 1px);clip: rect(1px, 1px, 1px, 1px);height: 1px;margin: -1px;overflow: hidden;padding: 0;position: absolute;width: 1px;}#sk-container-id-2 div.sk-estimator {font-family: monospace;background-color: #f0f8ff;border: 1px dotted black;border-radius: 0.25em;box-sizing: border-box;margin-bottom: 0.5em;}#sk-container-id-2 div.sk-estimator:hover {background-color: #d4ebff;}#sk-container-id-2 div.sk-parallel-item::after {content: \"\";width: 100%;border-bottom: 1px solid gray;flex-grow: 1;}#sk-container-id-2 div.sk-label:hover label.sk-toggleable__label {background-color: #d4ebff;}#sk-container-id-2 div.sk-serial::before {content: \"\";position: absolute;border-left: 1px solid gray;box-sizing: border-box;top: 0;bottom: 0;left: 50%;z-index: 0;}#sk-container-id-2 div.sk-serial {display: flex;flex-direction: column;align-items: center;background-color: white;padding-right: 0.2em;padding-left: 0.2em;position: relative;}#sk-container-id-2 div.sk-item {position: relative;z-index: 1;}#sk-container-id-2 div.sk-parallel {display: flex;align-items: stretch;justify-content: center;background-color: white;position: relative;}#sk-container-id-2 div.sk-item::before, #sk-container-id-2 div.sk-parallel-item::before {content: \"\";position: absolute;border-left: 1px solid gray;box-sizing: border-box;top: 0;bottom: 0;left: 50%;z-index: -1;}#sk-container-id-2 div.sk-parallel-item {display: flex;flex-direction: column;z-index: 1;position: relative;background-color: white;}#sk-container-id-2 div.sk-parallel-item:first-child::after {align-self: flex-end;width: 50%;}#sk-container-id-2 div.sk-parallel-item:last-child::after {align-self: flex-start;width: 50%;}#sk-container-id-2 div.sk-parallel-item:only-child::after {width: 0;}#sk-container-id-2 div.sk-dashed-wrapped {border: 1px dashed gray;margin: 0 0.4em 0.5em 0.4em;box-sizing: border-box;padding-bottom: 0.4em;background-color: white;}#sk-container-id-2 div.sk-label label {font-family: monospace;font-weight: bold;display: inline-block;line-height: 1.2em;}#sk-container-id-2 div.sk-label-container {text-align: center;}#sk-container-id-2 div.sk-container {/* jupyter's `normalize.less` sets `[hidden] { display: none; }` but bootstrap.min.css set `[hidden] { display: none !important; }` so we also need the `!important` here to be able to override the default hidden behavior on the sphinx rendered scikit-learn.org. See: https://github.com/scikit-learn/scikit-learn/issues/21755 */display: inline-block !important;position: relative;}#sk-container-id-2 div.sk-text-repr-fallback {display: none;}</style><div id=\"sk-container-id-2\" class=\"sk-top-container\"><div class=\"sk-text-repr-fallback\"><pre>LinearRegression()</pre><b>In a Jupyter environment, please rerun this cell to show the HTML representation or trust the notebook. <br />On GitHub, the HTML representation is unable to render, please try loading this page with nbviewer.org.</b></div><div class=\"sk-container\" hidden><div class=\"sk-item\"><div class=\"sk-estimator sk-toggleable\"><input class=\"sk-toggleable__control sk-hidden--visually\" id=\"sk-estimator-id-2\" type=\"checkbox\" checked><label for=\"sk-estimator-id-2\" class=\"sk-toggleable__label sk-toggleable__label-arrow\">LinearRegression</label><div class=\"sk-toggleable__content\"><pre>LinearRegression()</pre></div></div></div></div></div>"
      ],
      "text/plain": [
       "LinearRegression()"
      ]
     },
     "execution_count": 29,
     "metadata": {},
     "output_type": "execute_result"
    }
   ],
   "source": [
    "regressor = LinearRegression()\n",
    "regressor.fit(X_train, Y_train)"
   ]
  },
  {
   "attachments": {},
   "cell_type": "markdown",
   "metadata": {},
   "source": [
    "* Se procede a hacer la gráfica con Predict (X_train), para predecir con los datos de entrenamiento."
   ]
  },
  {
   "cell_type": "code",
   "execution_count": 36,
   "metadata": {},
   "outputs": [
    {
     "data": {
      "image/png": "[encoded data removed]",
      "text/plain": [
       "<Figure size 432x288 with 1 Axes>"
      ]
     },
     "metadata": {
      "needs_background": "light"
     },
     "output_type": "display_data"
    },
    {
     "data": {
      "text/plain": [
       "<Figure size 432x288 with 0 Axes>"
      ]
     },
     "metadata": {},
     "output_type": "display_data"
    }
   ],
   "source": [
    "\n",
    "plt.scatter(X_train, Y_train, color = 'blue')\n",
    "plt.plot(X_train, regressor.predict(X_train), color = 'black')\n",
    "plt.title('Salario VS Experiencia (Datos de Entrenamiento)')\n",
    "plt.xlabel('Experiencia')\n",
    "plt.ylabel('Salario')\n",
    "plt.show()\n",
    "plt.savefig('C:/Users/wagne/Downloads/Analisis salarios programadores/reports/linear_regression_train.png')"
   ]
  },
  {
   "attachments": {},
   "cell_type": "markdown",
   "metadata": {},
   "source": [
    "* Se procede a hacer la gráfica con Predict (X_train), para predecir con los datos de prueba."
   ]
  },
  {
   "cell_type": "code",
   "execution_count": 31,
   "metadata": {},
   "outputs": [
    {
     "data": {
      "image/png": "[encoded data removed]",
      "text/plain": [
       "<Figure size 432x288 with 1 Axes>"
      ]
     },
     "metadata": {
      "needs_background": "light"
     },
     "output_type": "display_data"
    },
    {
     "data": {
      "text/plain": [
       "<Figure size 432x288 with 0 Axes>"
      ]
     },
     "metadata": {},
     "output_type": "display_data"
    }
   ],
   "source": [
    "\n",
    "plt.scatter(X_test, Y_test, color = 'red')\n",
    "plt.plot(X_train, regressor.predict(X_train), color='black')\n",
    "plt.title('Salario VS Experiencia (Datos de Prueba)')\n",
    "plt.xlabel('Experiencia')\n",
    "plt.ylabel('Salario')\n",
    "plt.show()\n",
    "plt.savefig('C:/Users/wagne/Downloads/Analisis salarios programadores/reports/linear_regression_test.jpg')"
   ]
  },
  {
   "attachments": {},
   "cell_type": "markdown",
   "metadata": {},
   "source": [
    "* Se procede hacer un consolidado general de gráficos para poder observar el analisis de forma minuciosa."
   ]
  },
  {
   "cell_type": "code",
   "execution_count": 32,
   "metadata": {},
   "outputs": [
    {
     "data": {
      "image/png": "[encoded data removed]",
      "text/plain": [
       "<Figure size 432x288 with 1 Axes>"
      ]
     },
     "metadata": {
      "needs_background": "light"
     },
     "output_type": "display_data"
    },
    {
     "data": {
      "image/png": "[encoded data removed]",
      "text/plain": [
       "<Figure size 432x288 with 1 Axes>"
      ]
     },
     "metadata": {
      "needs_background": "light"
     },
     "output_type": "display_data"
    },
    {
     "data": {
      "text/plain": [
       "Text(0, 0.5, 'salario')"
      ]
     },
     "execution_count": 32,
     "metadata": {},
     "output_type": "execute_result"
    },
    {
     "data": {
      "image/png": "[encoded data removed]",
      "text/plain": [
       "<Figure size 432x288 with 1 Axes>"
      ]
     },
     "metadata": {
      "needs_background": "light"
     },
     "output_type": "display_data"
    }
   ],
   "source": [
    "plt.scatter(X_train, Y_train, color = 'blue')\n",
    "plt.plot(X_train, regressor.predict(X_train), color = 'black')\n",
    "plt.title('Salario VS Experiencia (Entrenamiento)')\n",
    "plt.xlabel('Experiencia')\n",
    "plt.ylabel('Salario')\n",
    "plt.show()\n",
    "\n",
    "plt.scatter(X_test, Y_test, color = 'red')\n",
    "plt.plot(X_train, regressor.predict(X_train), color='black')\n",
    "plt.title('Salario VS Experiencia (Prueba)')\n",
    "plt.xlabel('Experiencia')\n",
    "plt.ylabel('Salario')\n",
    "plt.show()\n",
    "\n",
    "plt.scatter(x_std,y_std)\n",
    "\n",
    "plt.plot(x_std,slr.predict(x_std), color='Red')\n",
    "\n",
    "#..tener en cuenta que:\n",
    "#x = df_rrss['Numero_Usuarios'].values.reshape(-1, 1)\n",
    "#y = df_rrss['Año_Creación'].values.reshape(-1, 1)\n",
    "\n",
    "plt.title(\"SALARIOS DE LOS PROGRAMADORES\")\n",
    "plt.xlabel(\"años experiencia\")\n",
    "plt.ylabel(\"salario\")"
   ]
  },
  {
   "attachments": {},
   "cell_type": "markdown",
   "metadata": {},
   "source": [
    "6. Evaluación del proyecto"
   ]
  },
  {
   "attachments": {},
   "cell_type": "markdown",
   "metadata": {},
   "source": [
    "La librería de Sckit-Learn, tiene el metodo .score para evaluar los datos de entrenamiento y prueba, desglosandolo en la siguiente linea de codigo:"
   ]
  },
  {
   "cell_type": "code",
   "execution_count": 33,
   "metadata": {},
   "outputs": [
    {
     "data": {
      "text/plain": [
       "0.988169515729126"
      ]
     },
     "execution_count": 33,
     "metadata": {},
     "output_type": "execute_result"
    }
   ],
   "source": [
    "#calcular el nivel de precisión del modelo\n",
    "regressor.score(X_test, Y_test)"
   ]
  },
  {
   "attachments": {},
   "cell_type": "markdown",
   "metadata": {},
   "source": [
    "Se procede con crear una forma de que se pueda mostrar y entender el valor anterior, que está en decimales a valor porcentual:"
   ]
  },
  {
   "cell_type": "code",
   "execution_count": 34,
   "metadata": {},
   "outputs": [
    {
     "name": "stdout",
     "output_type": "stream",
     "text": [
      "El porcentaje de precisión del modelo es: 98.8169515729126 %\n"
     ]
    }
   ],
   "source": [
    "#formula para convertirlo en porcentaje\n",
    "porcentaje=regressor.score(X_test, Y_test)*100\n",
    "print(\"El porcentaje de precisión del modelo es:\" , porcentaje, \"%\")"
   ]
  },
  {
   "attachments": {},
   "cell_type": "markdown",
   "metadata": {},
   "source": [
    "## 2-Conclusiones del proyecto"
   ]
  },
  {
   "attachments": {},
   "cell_type": "markdown",
   "metadata": {
    "cell_id": "aab6be92e00b4ddc9490a808a2e62f05",
    "deepnote_cell_type": "text-cell-p",
    "formattedRanges": [],
    "is_collapsed": false,
    "tags": []
   },
   "source": [
    "Las conclusiones del analisis de los datos fueron:"
   ]
  },
  {
   "attachments": {},
   "cell_type": "markdown",
   "metadata": {
    "cell_id": "e25674fb416e4627b9707c8a4d049cd0",
    "deepnote_cell_type": "text-cell-bullet",
    "formattedRanges": [],
    "is_collapsed": false,
    "tags": []
   },
   "source": [
    "- El modelo de regresión lineal, solo se pueden utilizar datos numericos, más categóricos, por lo cual deben ser continuos.\n",
    "\n",
    "- Para el caso, la regresión tiene una tendencia positiva, es decir va en aumento; como se puede observar, la linea en el plano cartesiano sale desde el dato negativo hasta el positivo.\n",
    "\n",
    "- Se evalúa el modelo de regresión, teniendo una precisión del 98 %, ya que los datros fueron pulidos antes de su analisis y puesta en marcha este algoritmo de Machine Learning.\n",
    "\n",
    "- A medida que el programador tiene más años de experiencia, el salario sube proporcionalmente."
   ]
  },
  {
   "cell_type": "markdown",
   "metadata": {
    "cell_id": "175694940c0e428db4b8461964f77115",
    "deepnote_cell_type": "text-cell-h2",
    "formattedRanges": [],
    "is_collapsed": false,
    "tags": []
   },
   "source": [
    "## 3-Referencias bibliográficas"
   ]
  },
  {
   "attachments": {},
   "cell_type": "markdown",
   "metadata": {
    "cell_id": "993c159f03a94391a0ccb5cf170f350f",
    "deepnote_cell_type": "text-cell-p",
    "formattedRanges": [],
    "is_collapsed": false,
    "tags": []
   },
   "source": [
    "Estadística en Python: media, mediana, varianza, percentiles (Parte III). (2017, 4 noviembre). Adrianistán. https://blog.adrianistan.eu/estadistica-python-media-mediana-varianza-percentiles-parte-iii\n",
    "\n",
    "Admin, A. (2021, 20 julio). Hacer un histograma en Python. App Game Tutoriales. Recuperado 12 de diciembre de 2022, de https://appgametutoriales.com/hacer-un-histograma-en-python/\n",
    "\n",
    "Briega, L. R. E. (2016, 13 marzo). Análisis de datos cuantitativos con Python. https://relopezbriega.github.io/blog/2016/03/13/analisis-de-datos-cuantitativos-con-python/\n",
    "\n",
    "Bruce, A., Bruce, A., & Gedeck, P. (2020). Practical Statistics for Data Scientists: 50+ Essential Concepts Using R and Python. O’Reilly.\n",
    "\n",
    "Platzi: Cursos online profesionales de tecnología. (s. f.-b). https://platzi.com/clases/2739-regresion-lineal/46173-tu-primera-regresion-lineal-con-scikit-learn/\n",
    "\n",
    "McKinney, W. (2013). Python for Data Analysis. Van Duuren Media.\n",
    "\n",
    "Vanderplas, J., & VanderPlas, J. (2016). Python Data Science Handbook: Essential Tools for Working with Data. Van Duuren Media.\n",
    "\n",
    "Roldán, R. C., Martín, E. M., & Rodríguez, A. R. (2019). Big data con Python: recolección, almacenamiento y proceso. Alfaomega.\n",
    "\n",
    "Géron, A. (2019). Hands-on Machine Learning with Scikit-Learn, Keras, and TensorFlow: Unsupervised learning techniques. Van Duuren Media.\n",
    "\n",
    "Torres, A. (2021, 9 diciembre). Limpieza de datos en Pandas: Explicado con ejemplos. freeCodeCamp.org. https://www.freecodecamp.org/espanol/news/limpieza-de-datos-en-pandas-explicado-con-ejemplos/\n",
    "\n",
    "Análisis exploratorio de datos. (2021, 3 agosto). https://www.ibm.com/es-es/cloud/learn/exploratory-data-analysis\n",
    "\n",
    "Wilke, C. O. (2019). Fundamentals of Data Visualization: A Primer on Making Informative and Compelling Figures (1.). O’Reilly Media.\n",
    "\n",
    "De TechTarget, C. (2021, 22 abril). Análisis estadístico. ComputerWeekly.es. https://www.computerweekly.com/es/definicion/Analisis-estadistico\n"
   ]
  }
 ],
 "metadata": {
  "deepnote": {},
  "deepnote_execution_queue": [],
  "deepnote_notebook_id": "33ecb2aaec9b44cc8cb2f946bec019f4",
  "kernelspec": {
   "display_name": "Python 3 (ipykernel)",
   "language": "python",
   "name": "python3"
  },
  "language_info": {
   "codemirror_mode": {
    "name": "ipython",
    "version": 3
   },
   "file_extension": ".py",
   "mimetype": "text/x-python",
   "name": "python",
   "nbconvert_exporter": "python",
   "pygments_lexer": "ipython3",
   "version": "3.10.5"
  },
  "vscode": {
   "interpreter": {
    "hash": "bb16339d622d833763448844aa3d62a845dc5e8ebd6d4523acfdc29f21243b06"
   }
  }
 },
 "nbformat": 4,
 "nbformat_minor": 4
}
